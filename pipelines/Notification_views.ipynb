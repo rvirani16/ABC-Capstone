{
 "cells": [
  {
   "cell_type": "code",
   "execution_count": 1,
   "id": "c5706646-407d-422a-a462-4ae86efe94fd",
   "metadata": {},
   "outputs": [],
   "source": [
    "import polars as pl\n",
    "import os\n",
    "from datetime import datetime"
   ]
  },
  {
   "cell_type": "code",
   "execution_count": 2,
   "id": "473c1194-6cef-4421-8429-67c8d63188d1",
   "metadata": {},
   "outputs": [],
   "source": [
    "RAW_DATA_PATH = '../data/raw/hub_notifications_logs.json'\n",
    "TRANSFORMED_DATA_PATH = '../data/transformed/hub_notifications_logs_transformed.csv'\n",
    "\n",
    "df = pl.read_json(RAW_DATA_PATH)"
   ]
  },
  {
   "cell_type": "markdown",
   "id": "f1c22e3a-002d-4ccb-95b4-008cbfc6423a",
   "metadata": {},
   "source": [
    "**Transformation 1:Drop & Rename columns**"
   ]
  },
  {
   "cell_type": "code",
   "execution_count": 3,
   "id": "6835383f-5d2d-4349-86a4-761185b35035",
   "metadata": {},
   "outputs": [],
   "source": [
    "# Renaming columns\n",
    "df = df.rename({\n",
    "    'id': 'id_notificationlogs', \n",
    "    'capstone_name': 'capstone_name_notificationlogs',\n",
    "    'capstone_email': 'capstone_email_notificationlogs', \n",
    "    'capstone_employee_id': 'capstone_employee_id_notificationlogs'\n",
    "})\n",
    "\n",
    "# Dropping columns\n",
    "df = df.drop(['_rid','_self','_etag','_attachments','_ts'])\n",
    "\n",
    "# Dropping rows with null values\n",
    "df = df.drop_nulls()\n",
    "\n",
    "#df.head()"
   ]
  },
  {
   "cell_type": "markdown",
   "id": "88a5bb8e-1f66-41a8-a5a3-0c7d22fc1322",
   "metadata": {},
   "source": [
    "**Transformation 2:This script handles two timestamp formats: Epoch time and ISO 8601 to datetime strings.**"
   ]
  },
  {
   "cell_type": "code",
   "execution_count": 4,
   "id": "d2e50976-240b-4b8c-87c6-82d88f2e0fef",
   "metadata": {},
   "outputs": [
    {
     "name": "stderr",
     "output_type": "stream",
     "text": [
      "C:\\Users\\HOME\\AppData\\Local\\Temp\\ipykernel_18864\\669267478.py:16: MapWithoutReturnDtypeWarning: Calling `map_elements` without specifying `return_dtype` can lead to unpredictable results. Specify `return_dtype` to silence this warning.\n",
      "  df = df.with_columns([\n"
     ]
    }
   ],
   "source": [
    "# Convert timestamps to \"YYYY-MM-DD HH:MM:SS\"\n",
    "def convert_mixed_timestamp(ts: str):\n",
    "    try:\n",
    "        ts_float = float(ts)\n",
    "        ts_int = int(ts_float)\n",
    "        dt = datetime.utcfromtimestamp(ts_int / 1000)\n",
    "        return dt.strftime(\"%Y-%m-%d %H:%M:%S\")\n",
    "    except:\n",
    "        try:\n",
    "            dt = datetime.fromisoformat(ts.replace(\"Z\", \"+00:00\"))\n",
    "            return dt.strftime(\"%Y-%m-%d %H:%M:%S\")\n",
    "        except:\n",
    "            return None\n",
    "\n",
    "# Apply to DataFrame\n",
    "df = df.with_columns([\n",
    "    pl.col(\"view_time_utc\").map_elements(convert_mixed_timestamp).alias(\"converted_time\")\n",
    "])\n",
    "\n",
    "# Optional: filter out failed conversions\n",
    "df = df.filter(pl.col(\"converted_time\").is_not_null())\n",
    "\n",
    "# Preview\n",
    "#print(df.head())\n"
   ]
  },
  {
   "cell_type": "code",
   "execution_count": 5,
   "id": "70763045-9fee-4b61-8608-b8a64e30689e",
   "metadata": {},
   "outputs": [],
   "source": [
    "df = df.rename({'converted_time': 'View_time'})\n",
    "df = df.drop(['view_time_utc'])"
   ]
  },
  {
   "cell_type": "code",
   "execution_count": 6,
   "id": "6df9b20c-c12e-44fa-8e79-5d732b3d7df6",
   "metadata": {},
   "outputs": [
    {
     "name": "stdout",
     "output_type": "stream",
     "text": [
      "Transformed data saved to ../data/transformed/hub_notifications_logs_transformed.csv\n"
     ]
    }
   ],
   "source": [
    "# Write transformed data\n",
    "os.makedirs(os.path.dirname(TRANSFORMED_DATA_PATH), exist_ok=True)\n",
    "df.write_csv(TRANSFORMED_DATA_PATH)\n",
    "print(f'Transformed data saved to {TRANSFORMED_DATA_PATH}')"
   ]
  },
  {
   "cell_type": "code",
   "execution_count": null,
   "id": "8c73c246-19d6-4223-835d-fa1343392d17",
   "metadata": {},
   "outputs": [],
   "source": []
  }
 ],
 "metadata": {
  "kernelspec": {
   "display_name": "Python 3 (ipykernel)",
   "language": "python",
   "name": "python3"
  },
  "language_info": {
   "codemirror_mode": {
    "name": "ipython",
    "version": 3
   },
   "file_extension": ".py",
   "mimetype": "text/x-python",
   "name": "python",
   "nbconvert_exporter": "python",
   "pygments_lexer": "ipython3",
   "version": "3.11.5"
  }
 },
 "nbformat": 4,
 "nbformat_minor": 5
}
