{
 "cells": [
  {
   "cell_type": "code",
   "execution_count": 1,
   "id": "74d93ca5-8bf5-44a3-b53a-e3be39503e0d",
   "metadata": {
    "tags": []
   },
   "outputs": [],
   "source": [
    "import polars as pl\n",
    "import os\n",
    "from datetime import datetime"
   ]
  },
  {
   "cell_type": "code",
   "execution_count": 2,
   "id": "6992615f-3aa9-4a7c-a13c-a26f12e37de0",
   "metadata": {
    "tags": []
   },
   "outputs": [],
   "source": [
    "RAW_DATA_PATH = '../data/raw/hub_notifications.json'\n",
    "TRANSFORMED_DATA_PATH = '../data/transformed/hub_notifications_transformed.csv'\n",
    "\n",
    "df = pl.read_json(RAW_DATA_PATH)"
   ]
  },
  {
   "cell_type": "markdown",
   "id": "a55336a5-c330-4638-bfc5-d02a8146ef60",
   "metadata": {},
   "source": [
    "## Transformation 1: Drop columns"
   ]
  },
  {
   "cell_type": "code",
   "execution_count": 3,
   "id": "b84e77ea-a27c-4a91-a15b-78ade2331eda",
   "metadata": {
    "tags": []
   },
   "outputs": [],
   "source": [
    "columns_to_drop = [\n",
    "    'type', 'classification', 'role', 'created_date', 'updated_date',\n",
    "    'created_by', '_rid', '_self', '_etag', '_attachments', '_ts', 'updated_by'\n",
    "]\n",
    "\n",
    "df = df.drop(columns_to_drop)\n",
    "\n",
    "# print(f\"After dropping columns: {df.shape[0]} records with {df.shape[1]} columns\")\n",
    "# df.head()"
   ]
  },
  {
   "cell_type": "markdown",
   "id": "ecec39ba-17de-4fc8-abdb-4107af06584e",
   "metadata": {},
   "source": [
    "## Transformation 2: Explode on tile column"
   ]
  },
  {
   "cell_type": "code",
   "execution_count": 4,
   "id": "3fdeb018-da45-4f9d-9a2c-d237bac677df",
   "metadata": {
    "tags": []
   },
   "outputs": [],
   "source": [
    "df = df.explode('tile')\n",
    "\n",
    "# print(f\"After exploding tile column: {df.shape[0]} records with {df.shape[1]} columns\")\n",
    "# df.head()"
   ]
  },
  {
   "cell_type": "markdown",
   "id": "e9b37540-a8cf-4bd0-889f-0cd924141f59",
   "metadata": {},
   "source": [
    "## Transformation 3: Add notification_type column for major and minor classification"
   ]
  },
  {
   "cell_type": "code",
   "execution_count": 5,
   "id": "7753b5f3-fc51-42a6-b6e3-e3f26f9b635d",
   "metadata": {
    "tags": []
   },
   "outputs": [
    {
     "name": "stderr",
     "output_type": "stream",
     "text": [
      "sys:1: MapWithoutReturnDtypeWarning: Calling `map_elements` without specifying `return_dtype` can lead to unpredictable results. Specify `return_dtype` to silence this warning.\n",
      "sys:1: MapWithoutReturnDtypeWarning: Calling `map_elements` without specifying `return_dtype` can lead to unpredictable results. Specify `return_dtype` to silence this warning.\n"
     ]
    }
   ],
   "source": [
    "# Calculate time difference in days (milliseconds to days)\n",
    "df = df.with_columns(\n",
    "    ((pl.col('end') - pl.col('start')) / (1000 * 60 * 60 * 24)).alias('time_diff_days')\n",
    ")\n",
    "\n",
    "# Add notification_type based on time difference\n",
    "df = df.with_columns(\n",
    "    pl.when(pl.col('time_diff_days') > 2)\n",
    "    .then(pl.lit('major'))\n",
    "    .otherwise(pl.lit('minor'))\n",
    "    .alias('notification_type')\n",
    ")\n",
    "    \n",
    "# Convert timestamps using UTC\n",
    "df = df.with_columns(\n",
    "    pl.col('start').map_elements(lambda x: datetime.utcfromtimestamp(x/1000).strftime('%Y-%m-%d %H:%M:%S')).alias('start'),\n",
    "    pl.col('end').map_elements(lambda x: datetime.utcfromtimestamp(x/1000).strftime('%Y-%m-%d %H:%M:%S')).alias('end')\n",
    ")\n",
    "\n",
    "#df.head()"
   ]
  },
  {
   "cell_type": "code",
   "execution_count": null,
   "id": "d8116f57-30cc-41d8-9208-d0157048bfc9",
   "metadata": {
    "tags": []
   },
   "outputs": [],
   "source": [
    "# Write transformed data\n",
    "os.makedirs(os.path.dirname(TRANSFORMED_DATA_PATH), exist_ok=True)\n",
    "df.write_csv(TRANSFORMED_DATA_PATH)\n",
    "print(f'Transformed data saved to {TRANSFORMED_DATA_PATH}')"
   ]
  },
  {
   "cell_type": "code",
   "execution_count": null,
   "id": "2e5ee60d-77cc-4e2a-be48-9f890e990ae6",
   "metadata": {},
   "outputs": [],
   "source": []
  }
 ],
 "metadata": {
  "kernelspec": {
   "display_name": "Python 3 (ipykernel)",
   "language": "python",
   "name": "python3"
  },
  "language_info": {
   "codemirror_mode": {
    "name": "ipython",
    "version": 3
   },
   "file_extension": ".py",
   "mimetype": "text/x-python",
   "name": "python",
   "nbconvert_exporter": "python",
   "pygments_lexer": "ipython3",
   "version": "3.11.4"
  }
 },
 "nbformat": 4,
 "nbformat_minor": 5
}
