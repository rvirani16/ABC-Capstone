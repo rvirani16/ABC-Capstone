{
 "cells": [
  {
   "cell_type": "code",
   "execution_count": 9,
   "id": "50e895ac-ae50-4128-857f-129f8de71626",
   "metadata": {
    "tags": []
   },
   "outputs": [],
   "source": [
    "import polars as pl\n",
    "import os\n",
    "from datetime import datetime"
   ]
  },
  {
   "cell_type": "code",
   "execution_count": 10,
   "id": "cc0827af-dc1b-4c3c-8c92-efe12fe804ea",
   "metadata": {
    "tags": []
   },
   "outputs": [],
   "source": [
    "NOTIFICATIONS_TILES_PATH = '../data/transformed/notifications_with_tiles.csv'\n",
    "USERS_PATH = '../data/raw/hub_users.json'\n",
    "FINAL_OUTPUT_PATH = '../data/transformed/notifications_users.csv'\n",
    "\n",
    "df_notifications_tiles = pl.read_csv(NOTIFICATIONS_TILES_PATH)\n",
    "# print(f\"Loaded notifications with tiles: {df_notifications_tiles.shape[0]} records with {df_notifications_tiles.shape[1]} columns\")\n",
    "# df_notifications_tiles.head()"
   ]
  },
  {
   "cell_type": "code",
   "execution_count": 11,
   "id": "b12cc64a-4bdd-48da-80b7-876a44bc2946",
   "metadata": {
    "tags": []
   },
   "outputs": [],
   "source": [
    "# Load user data\n",
    "df_users = pl.read_json(USERS_PATH)\n",
    "# print(f\"Loaded users data: {df_users.shape[0]} records with {df_users.shape[1]} columns\")\n",
    "\n",
    "# Extract required columns from users data\n",
    "df_users_selected = df_users.select(\n",
    "    pl.col('capstone_email'),\n",
    "    pl.col('jobtitle'),\n",
    "    pl.col('authorization').struct.field('role').alias('authorization_role')\n",
    ")\n",
    "\n",
    "# print(\"Selected user columns:\")\n",
    "# df_users_selected.head()"
   ]
  },
  {
   "cell_type": "markdown",
   "id": "07d8ef4c-f5e5-4b08-80e5-0dfbd60a0b74",
   "metadata": {
    "tags": []
   },
   "source": [
    "## Transformation"
   ]
  },
  {
   "cell_type": "code",
   "execution_count": 13,
   "id": "84be91c2-a51c-4ade-b3c9-f4c499a7c3cf",
   "metadata": {
    "tags": []
   },
   "outputs": [],
   "source": [
    "# Join notifications_tiles with users based on role\n",
    "# Ensure the join columns have the same name\n",
    "df_notifications_users = df_notifications_tiles.join(\n",
    "    df_users_selected,\n",
    "    left_on='tile_roles',\n",
    "    right_on='authorization_role',\n",
    "    how='inner'\n",
    ")\n",
    "\n",
    "# print(f\"Joined notifications with users: {df_notifications_users.shape[0]} records with {df_notifications_users.shape[1]} columns\")\n",
    "# df_notifications_users.head()"
   ]
  },
  {
   "cell_type": "code",
   "execution_count": 14,
   "id": "4dbe7191-f16a-42af-b79e-c382c6d075d3",
   "metadata": {
    "tags": []
   },
   "outputs": [
    {
     "name": "stdout",
     "output_type": "stream",
     "text": [
      "Notifications with users saved to ../data/transformed/notifications_users.csv\n"
     ]
    }
   ],
   "source": [
    "# Write the joined data to CSV\n",
    "os.makedirs(os.path.dirname(FINAL_OUTPUT_PATH), exist_ok=True)\n",
    "df_notifications_users.write_csv(FINAL_OUTPUT_PATH)\n",
    "print(f'Notifications with users saved to {FINAL_OUTPUT_PATH}')"
   ]
  },
  {
   "cell_type": "code",
   "execution_count": null,
   "id": "2ed8df30-ef73-4e0e-92a0-4d20e738171e",
   "metadata": {},
   "outputs": [],
   "source": []
  }
 ],
 "metadata": {
  "kernelspec": {
   "display_name": "Python 3 (ipykernel)",
   "language": "python",
   "name": "python3"
  },
  "language_info": {
   "codemirror_mode": {
    "name": "ipython",
    "version": 3
   },
   "file_extension": ".py",
   "mimetype": "text/x-python",
   "name": "python",
   "nbconvert_exporter": "python",
   "pygments_lexer": "ipython3",
   "version": "3.11.4"
  }
 },
 "nbformat": 4,
 "nbformat_minor": 5
}
