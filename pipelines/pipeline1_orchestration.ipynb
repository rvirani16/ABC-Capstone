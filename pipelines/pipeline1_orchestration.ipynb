{
 "cells": [
  {
   "cell_type": "code",
   "execution_count": 11,
   "id": "af871c85-c957-4256-ab96-8a9a3d021cea",
   "metadata": {
    "tags": []
   },
   "outputs": [
    {
     "name": "stdout",
     "output_type": "stream",
     "text": [
      "Running ../pipelines/01_notification_transformation.ipynb\n",
      "Completed ../pipelines/01_notification_transformation.ipynb\n",
      "Running ../pipelines/02_notification_tile_join.ipynb\n",
      "Completed ../pipelines/02_notification_tile_join.ipynb\n",
      "Running ../pipelines/03_notification_user_join.ipynb\n",
      "Completed ../pipelines/03_notification_user_join.ipynb\n",
      "Pipeline execution complete!\n"
     ]
    }
   ],
   "source": [
    "import nbclient\n",
    "import nbformat\n",
    "import os\n",
    "\n",
    "def run_notebook(notebook_path):\n",
    "    \"\"\"Execute a notebook using nbclient\"\"\"\n",
    "    try:\n",
    "        print(f\"Running {notebook_path}\")\n",
    "\n",
    "        # Load and execute notebook\n",
    "        with open(notebook_path, 'r', encoding='utf-8') as f:\n",
    "            nb = nbformat.read(f, as_version=4)\n",
    "\n",
    "        client = nbclient.NotebookClient(\n",
    "            nb=nb,\n",
    "            timeout=600,\n",
    "            kernel_name='python3'\n",
    "        )\n",
    "\n",
    "        client.execute()\n",
    "        print(f\"Completed {notebook_path}\")\n",
    "\n",
    "    except Exception as e:\n",
    "        print(f\"Error in {notebook_path}: {str(e)}\")\n",
    "        raise\n",
    "\n",
    "# Define notebooks to run\n",
    "notebooks = [\n",
    "    \"../pipelines/01_notification_transformation.ipynb\",\n",
    "    \"../pipelines/02_notification_tile_join.ipynb\",\n",
    "    \"../pipelines/03_notification_user_join.ipynb\"\n",
    "]\n",
    "\n",
    "# Run notebooks in sequence\n",
    "for notebook in notebooks:\n",
    "    run_notebook(notebook)\n",
    "\n",
    "print(\"Pipeline execution complete!\")"
   ]
  },
  {
   "cell_type": "code",
   "execution_count": null,
   "id": "251e57c8-f803-41e7-966a-e6613655ad9e",
   "metadata": {},
   "outputs": [],
   "source": []
  }
 ],
 "metadata": {
  "kernelspec": {
   "display_name": "Python 3 (ipykernel)",
   "language": "python",
   "name": "python3"
  },
  "language_info": {
   "codemirror_mode": {
    "name": "ipython",
    "version": 3
   },
   "file_extension": ".py",
   "mimetype": "text/x-python",
   "name": "python",
   "nbconvert_exporter": "python",
   "pygments_lexer": "ipython3",
   "version": "3.11.4"
  }
 },
 "nbformat": 4,
 "nbformat_minor": 5
}
