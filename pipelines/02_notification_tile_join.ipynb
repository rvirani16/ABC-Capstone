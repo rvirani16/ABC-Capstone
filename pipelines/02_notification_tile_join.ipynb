{
 "cells": [
  {
   "cell_type": "code",
   "execution_count": 15,
   "id": "46e7b6fb-dc66-442e-959d-49cee8f63f57",
   "metadata": {
    "tags": []
   },
   "outputs": [],
   "source": [
    "import polars as pl\n",
    "import os\n",
    "from datetime import datetime"
   ]
  },
  {
   "cell_type": "code",
   "execution_count": 16,
   "id": "8f8627d0-0b15-4346-83c9-13e0beb58697",
   "metadata": {
    "tags": []
   },
   "outputs": [],
   "source": [
    "NOTIFICATIONS_PATH = '../data/transformed/hub_notifications_transformed.csv'\n",
    "TILES_PATH = '../data/raw/tiles.json'\n",
    "JOINED_DATA_PATH = '../data/transformed/notifications_with_tiles.csv'\n",
    "\n",
    "# Load transformed notifications data\n",
    "df_notifications = pl.read_csv(NOTIFICATIONS_PATH)\n",
    "\n",
    "# print(f\"Loaded notifications data: {df_notifications.shape[0]} records with {df_notifications.shape[1]} columns\")\n",
    "# df_notifications.head()"
   ]
  },
  {
   "cell_type": "code",
   "execution_count": 17,
   "id": "fb2585d5-39fb-4372-8492-a84e99b6163a",
   "metadata": {
    "tags": []
   },
   "outputs": [],
   "source": [
    "# Load tiles data\n",
    "df_tiles = pl.read_json(TILES_PATH)\n",
    "# print(f\"Loaded tiles data: {df_tiles.shape[0]} records with {df_tiles.shape[1]} columns\")\n",
    "# df_tiles.head()"
   ]
  },
  {
   "cell_type": "markdown",
   "id": "1e5aa911-b3c2-40c5-b763-b47addec9abc",
   "metadata": {},
   "source": [
    "## Transformation: Select and rename columns from tiles data"
   ]
  },
  {
   "cell_type": "code",
   "execution_count": 18,
   "id": "35f69222-02bf-499f-af6d-150c24d7f1ce",
   "metadata": {
    "tags": []
   },
   "outputs": [],
   "source": [
    "df_tiles_selected = df_tiles.select(\n",
    "    pl.col('id').alias('tile_id'),\n",
    "    pl.col('name').alias('tile_name'),\n",
    "    pl.col('description').alias('tile_description'),\n",
    "    pl.col('roles').alias('tile_roles'),\n",
    "    pl.col('source').alias('tile_source')\n",
    ")\n",
    "\n",
    "# Explode tile_roles column\n",
    "df_tiles_exploded = df_tiles_selected.explode('tile_roles')\n",
    "# print(f\"After exploding tile_roles: {df_tiles_exploded.shape[0]} records\")\n",
    "# df_tiles_exploded.head()"
   ]
  },
  {
   "cell_type": "code",
   "execution_count": 19,
   "id": "119b1041-11c4-4eb4-96dc-20a6d26c8503",
   "metadata": {
    "tags": []
   },
   "outputs": [],
   "source": [
    "# Join the datasets\n",
    "df_notifications = df_notifications.with_columns(\n",
    "    pl.col('tile').alias('tile_id')\n",
    ")\n",
    "\n",
    "# Inner join\n",
    "df_joined = df_notifications.join(\n",
    "    df_tiles_exploded,\n",
    "    on='tile_id',\n",
    "    how='inner'\n",
    ")\n",
    "\n",
    "df_joined = df_joined.drop('tile')\n",
    "\n",
    "# print(f\"Joined data: {df_joined.shape[0]} records with {df_joined.shape[1]} columns\")\n",
    "# df_joined.head()"
   ]
  },
  {
   "cell_type": "code",
   "execution_count": 20,
   "id": "a74a4e97-73c0-45f4-8870-e4d8f23f32a2",
   "metadata": {
    "tags": []
   },
   "outputs": [
    {
     "name": "stdout",
     "output_type": "stream",
     "text": [
      "Joined data saved to ../data/transformed/notifications_with_tiles.csv\n"
     ]
    }
   ],
   "source": [
    "# Write transformed data\n",
    "os.makedirs(os.path.dirname(JOINED_DATA_PATH), exist_ok=True)\n",
    "df_joined.write_csv(JOINED_DATA_PATH)\n",
    "print(f'Joined data saved to {JOINED_DATA_PATH}')"
   ]
  },
  {
   "cell_type": "code",
   "execution_count": null,
   "id": "b4ec0684-35e4-43f2-9e14-619736b250b1",
   "metadata": {},
   "outputs": [],
   "source": []
  }
 ],
 "metadata": {
  "kernelspec": {
   "display_name": "Python 3 (ipykernel)",
   "language": "python",
   "name": "python3"
  },
  "language_info": {
   "codemirror_mode": {
    "name": "ipython",
    "version": 3
   },
   "file_extension": ".py",
   "mimetype": "text/x-python",
   "name": "python",
   "nbconvert_exporter": "python",
   "pygments_lexer": "ipython3",
   "version": "3.11.4"
  }
 },
 "nbformat": 4,
 "nbformat_minor": 5
}
